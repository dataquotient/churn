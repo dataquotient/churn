{
 "cells": [
  {
   "cell_type": "code",
   "execution_count": 203,
   "metadata": {
    "collapsed": true
   },
   "outputs": [],
   "source": [
    "#Import libraries:\n",
    "import pandas as pd\n",
    "import numpy as np\n",
    "from sklearn.ensemble import GradientBoostingClassifier as gbm #GBM algorithm\n",
    "from sklearn.model_selection import train_test_split\n",
    "import matplotlib.pylab as plt\n",
    "from sklearn.metrics import accuracy_score as acc\n",
    "import dill as pickle"
   ]
  },
  {
   "cell_type": "code",
   "execution_count": 204,
   "metadata": {
    "collapsed": true
   },
   "outputs": [],
   "source": [
    "# Define a pipeline class that does the data cleaning, model training, prediction & evaluation for us.\n",
    "'''\n",
    "export class definition as classdef.py\n",
    "'''\n",
    "class Pipeline:\n",
    "    \n",
    "    # data cleaning and define target to train the model on\n",
    "    def cleaning(self, a):\n",
    "        target=a['churn'].astype(int)\n",
    "        a.drop(['churn', 'phone number', 'account length'], axis=1,inplace=True)\n",
    "        clist=['state', 'international plan', 'voice mail plan']\n",
    "        for c in clist:\n",
    "            a[c]=a[c].astype('category').cat.codes\n",
    "        return a, target\n",
    "    \n",
    "    # training the gbm model\n",
    "    def train(self, a, b):\n",
    "        self.model=gbm().fit(a, b)\n",
    "    \n",
    "    # predicting from gbm model\n",
    "    def predict(self, a):\n",
    "        y_hat=self.model.predict(a)\n",
    "        return y_hat\n",
    "    \n",
    "    # calculate churn risk score\n",
    "    def probs(self, a):\n",
    "        probs=self.model.predict_proba(a)\n",
    "        return probs\n",
    "    \n",
    "    # calculate feature importance\n",
    "    def importance(self,a):\n",
    "        self.feat_imp = pd.Series(self.model.feature_importances_).sort_values(ascending=True)\n",
    "    \n",
    "    # calculate model accuracy\n",
    "    def accuracy(self, a, b):\n",
    "        self.acc=acc(a,b)\n",
    "        print('The GBM model accuracy is ' + str(100*self.acc) + ' %.')"
   ]
  },
  {
   "cell_type": "code",
   "execution_count": 291,
   "metadata": {
    "scrolled": false
   },
   "outputs": [
    {
     "name": "stdout",
     "output_type": "stream",
     "text": [
      "The GBM model accuracy is 96.7065868263 %.\n"
     ]
    }
   ],
   "source": [
    "# Loading Telco data from local .csv file\n",
    "df=pd.read_csv('telco_data.csv', low_memory=False)\n",
    "# Initialize our previously defined pipeline class\n",
    "pipe=Pipeline()\n",
    "# Clean our data\n",
    "df, target=pipe.cleaning(df)   \n",
    "# Make a train - test split to evaluate the quality of our model on left-out data\n",
    "X_train, X_test, y_train, y_test = train_test_split(df, target , test_size=0.1, random_state=123)\n",
    "# Train the model on the training set\n",
    "pipe.train(X_train, y_train)\n",
    "# Predict churn on the test set\n",
    "y_hat = pipe.predict(X_test)\n",
    "# Calculate corresponding churn probability\n",
    "probs = pipe.probs(X_test)\n",
    "# Calculate node accuracy\n",
    "pipe.accuracy(y_test, y_hat)"
   ]
  },
  {
   "cell_type": "code",
   "execution_count": 140,
   "metadata": {},
   "outputs": [
    {
     "data": {
      "image/png": "[encoded data removed]",
      "text/plain": [
       "<matplotlib.figure.Figure at 0x112d9b518>"
      ]
     },
     "metadata": {},
     "output_type": "display_data"
    }
   ],
   "source": [
    "# Visualize feature importance\n",
    "pipe.importance(df)\n",
    "names=df.columns\n",
    "ticks=names[pipe.feat_imp.index]\n",
    "plt.bar(pipe.feat_imp.index,pipe.feat_imp) \n",
    "plt.ylabel('Relative Feature Importance')\n",
    "plt.xticks(pipe.feat_imp.index, ticks, rotation='vertical')\n",
    "plt.show()"
   ]
  },
  {
   "cell_type": "code",
   "execution_count": 292,
   "metadata": {},
   "outputs": [
    {
     "data": {
      "text/plain": [
       "<__main__.Pipeline at 0x1142f6400>"
      ]
     },
     "execution_count": 292,
     "metadata": {},
     "output_type": "execute_result"
    }
   ],
   "source": [
    "# Serialize the pipeline object for production\n",
    "filename = 'churn_model.pk'\n",
    "with open('./'+filename, 'wb') as file:\n",
    "\tpickle.dump(pipe, file)\n",
    "# Test whether serialization has worked out\n",
    "with open('./'+filename ,'rb') as f:\n",
    "    loaded_pipe = pickle.load(f)\n",
    "loaded_pipe"
   ]
  },
  {
   "cell_type": "code",
   "execution_count": 302,
   "metadata": {},
   "outputs": [
    {
     "data": {
      "text/plain": [
       "'High churn risk.'"
      ]
     },
     "execution_count": 302,
     "metadata": {},
     "output_type": "execute_result"
    }
   ],
   "source": [
    "# Import relevant libraries for json request\n",
    "import json\n",
    "import requests\n",
    "\n",
    "# Read initial data for having samples to test API deployment\n",
    "df = pd.read_csv('telco_data.csv')\n",
    "# All data cleaning is down by our pipeline inside the API, so we only have to send over raw data \n",
    "#    -- how convenient!\n",
    "\n",
    "# Set example data\n",
    "#lo - idx 0\n",
    "#hi - idx 15\n",
    "sub=pd.DataFrame(df[df.index==15])\n",
    "\n",
    "# Convert data frame to json\n",
    "djson = sub.to_json()\n",
    "# Set header for json send/receive\n",
    "header = {'Content-Type': 'application/json', 'Accept': 'application/json'}\n",
    "# Request churn risk at our API endpoint:\n",
    "resp = requests.post(\"http://0.0.0.0:4000/predict\", json = djson, headers= header)\n",
    "# Print response\n",
    "resp.json()"
   ]
  }
 ],
 "metadata": {
  "kernelspec": {
   "display_name": "Python 3",
   "language": "python",
   "name": "python3"
  },
  "language_info": {
   "codemirror_mode": {
    "name": "ipython",
    "version": 3
   },
   "file_extension": ".py",
   "mimetype": "text/x-python",
   "name": "python",
   "nbconvert_exporter": "python",
   "pygments_lexer": "ipython3",
   "version": "3.5.4"
  }
 },
 "nbformat": 4,
 "nbformat_minor": 2
}
